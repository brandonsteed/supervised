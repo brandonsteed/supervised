{
 "cells": [
  {
   "cell_type": "code",
   "execution_count": 1,
   "metadata": {},
   "outputs": [],
   "source": [
    "import matplotlib.pyplot as plt\n",
    "import numpy as np\n",
    "import pandas as pd\n",
    "import seaborn as sns\n",
    "%matplotlib inline\n",
    "import statsmodels.api as sm\n",
    "from sklearn.linear_model import LogisticRegression\n",
    "from sklearn.model_selection import cross_val_score"
   ]
  },
  {
   "cell_type": "code",
   "execution_count": 2,
   "metadata": {},
   "outputs": [],
   "source": [
    "df = pd.read_csv('WA_Fn-UseC_-HR-Employee-Attrition.csv')"
   ]
  },
  {
   "cell_type": "code",
   "execution_count": 3,
   "metadata": {},
   "outputs": [
    {
     "data": {
      "text/html": [
       "<div>\n",
       "<style scoped>\n",
       "    .dataframe tbody tr th:only-of-type {\n",
       "        vertical-align: middle;\n",
       "    }\n",
       "\n",
       "    .dataframe tbody tr th {\n",
       "        vertical-align: top;\n",
       "    }\n",
       "\n",
       "    .dataframe thead th {\n",
       "        text-align: right;\n",
       "    }\n",
       "</style>\n",
       "<table border=\"1\" class=\"dataframe\">\n",
       "  <thead>\n",
       "    <tr style=\"text-align: right;\">\n",
       "      <th></th>\n",
       "      <th>Age</th>\n",
       "      <th>Attrition</th>\n",
       "      <th>BusinessTravel</th>\n",
       "      <th>DailyRate</th>\n",
       "      <th>Department</th>\n",
       "      <th>DistanceFromHome</th>\n",
       "      <th>Education</th>\n",
       "      <th>EducationField</th>\n",
       "      <th>EmployeeCount</th>\n",
       "      <th>EmployeeNumber</th>\n",
       "      <th>...</th>\n",
       "      <th>RelationshipSatisfaction</th>\n",
       "      <th>StandardHours</th>\n",
       "      <th>StockOptionLevel</th>\n",
       "      <th>TotalWorkingYears</th>\n",
       "      <th>TrainingTimesLastYear</th>\n",
       "      <th>WorkLifeBalance</th>\n",
       "      <th>YearsAtCompany</th>\n",
       "      <th>YearsInCurrentRole</th>\n",
       "      <th>YearsSinceLastPromotion</th>\n",
       "      <th>YearsWithCurrManager</th>\n",
       "    </tr>\n",
       "  </thead>\n",
       "  <tbody>\n",
       "    <tr>\n",
       "      <th>0</th>\n",
       "      <td>41</td>\n",
       "      <td>Yes</td>\n",
       "      <td>Travel_Rarely</td>\n",
       "      <td>1102</td>\n",
       "      <td>Sales</td>\n",
       "      <td>1</td>\n",
       "      <td>2</td>\n",
       "      <td>Life Sciences</td>\n",
       "      <td>1</td>\n",
       "      <td>1</td>\n",
       "      <td>...</td>\n",
       "      <td>1</td>\n",
       "      <td>80</td>\n",
       "      <td>0</td>\n",
       "      <td>8</td>\n",
       "      <td>0</td>\n",
       "      <td>1</td>\n",
       "      <td>6</td>\n",
       "      <td>4</td>\n",
       "      <td>0</td>\n",
       "      <td>5</td>\n",
       "    </tr>\n",
       "    <tr>\n",
       "      <th>1</th>\n",
       "      <td>49</td>\n",
       "      <td>No</td>\n",
       "      <td>Travel_Frequently</td>\n",
       "      <td>279</td>\n",
       "      <td>Research &amp; Development</td>\n",
       "      <td>8</td>\n",
       "      <td>1</td>\n",
       "      <td>Life Sciences</td>\n",
       "      <td>1</td>\n",
       "      <td>2</td>\n",
       "      <td>...</td>\n",
       "      <td>4</td>\n",
       "      <td>80</td>\n",
       "      <td>1</td>\n",
       "      <td>10</td>\n",
       "      <td>3</td>\n",
       "      <td>3</td>\n",
       "      <td>10</td>\n",
       "      <td>7</td>\n",
       "      <td>1</td>\n",
       "      <td>7</td>\n",
       "    </tr>\n",
       "    <tr>\n",
       "      <th>2</th>\n",
       "      <td>37</td>\n",
       "      <td>Yes</td>\n",
       "      <td>Travel_Rarely</td>\n",
       "      <td>1373</td>\n",
       "      <td>Research &amp; Development</td>\n",
       "      <td>2</td>\n",
       "      <td>2</td>\n",
       "      <td>Other</td>\n",
       "      <td>1</td>\n",
       "      <td>4</td>\n",
       "      <td>...</td>\n",
       "      <td>2</td>\n",
       "      <td>80</td>\n",
       "      <td>0</td>\n",
       "      <td>7</td>\n",
       "      <td>3</td>\n",
       "      <td>3</td>\n",
       "      <td>0</td>\n",
       "      <td>0</td>\n",
       "      <td>0</td>\n",
       "      <td>0</td>\n",
       "    </tr>\n",
       "    <tr>\n",
       "      <th>3</th>\n",
       "      <td>33</td>\n",
       "      <td>No</td>\n",
       "      <td>Travel_Frequently</td>\n",
       "      <td>1392</td>\n",
       "      <td>Research &amp; Development</td>\n",
       "      <td>3</td>\n",
       "      <td>4</td>\n",
       "      <td>Life Sciences</td>\n",
       "      <td>1</td>\n",
       "      <td>5</td>\n",
       "      <td>...</td>\n",
       "      <td>3</td>\n",
       "      <td>80</td>\n",
       "      <td>0</td>\n",
       "      <td>8</td>\n",
       "      <td>3</td>\n",
       "      <td>3</td>\n",
       "      <td>8</td>\n",
       "      <td>7</td>\n",
       "      <td>3</td>\n",
       "      <td>0</td>\n",
       "    </tr>\n",
       "    <tr>\n",
       "      <th>4</th>\n",
       "      <td>27</td>\n",
       "      <td>No</td>\n",
       "      <td>Travel_Rarely</td>\n",
       "      <td>591</td>\n",
       "      <td>Research &amp; Development</td>\n",
       "      <td>2</td>\n",
       "      <td>1</td>\n",
       "      <td>Medical</td>\n",
       "      <td>1</td>\n",
       "      <td>7</td>\n",
       "      <td>...</td>\n",
       "      <td>4</td>\n",
       "      <td>80</td>\n",
       "      <td>1</td>\n",
       "      <td>6</td>\n",
       "      <td>3</td>\n",
       "      <td>3</td>\n",
       "      <td>2</td>\n",
       "      <td>2</td>\n",
       "      <td>2</td>\n",
       "      <td>2</td>\n",
       "    </tr>\n",
       "  </tbody>\n",
       "</table>\n",
       "<p>5 rows × 35 columns</p>\n",
       "</div>"
      ],
      "text/plain": [
       "   Age Attrition     BusinessTravel  DailyRate              Department  \\\n",
       "0   41       Yes      Travel_Rarely       1102                   Sales   \n",
       "1   49        No  Travel_Frequently        279  Research & Development   \n",
       "2   37       Yes      Travel_Rarely       1373  Research & Development   \n",
       "3   33        No  Travel_Frequently       1392  Research & Development   \n",
       "4   27        No      Travel_Rarely        591  Research & Development   \n",
       "\n",
       "   DistanceFromHome  Education EducationField  EmployeeCount  EmployeeNumber  \\\n",
       "0                 1          2  Life Sciences              1               1   \n",
       "1                 8          1  Life Sciences              1               2   \n",
       "2                 2          2          Other              1               4   \n",
       "3                 3          4  Life Sciences              1               5   \n",
       "4                 2          1        Medical              1               7   \n",
       "\n",
       "           ...           RelationshipSatisfaction StandardHours  \\\n",
       "0          ...                                  1            80   \n",
       "1          ...                                  4            80   \n",
       "2          ...                                  2            80   \n",
       "3          ...                                  3            80   \n",
       "4          ...                                  4            80   \n",
       "\n",
       "   StockOptionLevel  TotalWorkingYears  TrainingTimesLastYear WorkLifeBalance  \\\n",
       "0                 0                  8                      0               1   \n",
       "1                 1                 10                      3               3   \n",
       "2                 0                  7                      3               3   \n",
       "3                 0                  8                      3               3   \n",
       "4                 1                  6                      3               3   \n",
       "\n",
       "   YearsAtCompany YearsInCurrentRole  YearsSinceLastPromotion  \\\n",
       "0               6                  4                        0   \n",
       "1              10                  7                        1   \n",
       "2               0                  0                        0   \n",
       "3               8                  7                        3   \n",
       "4               2                  2                        2   \n",
       "\n",
       "   YearsWithCurrManager  \n",
       "0                     5  \n",
       "1                     7  \n",
       "2                     0  \n",
       "3                     0  \n",
       "4                     2  \n",
       "\n",
       "[5 rows x 35 columns]"
      ]
     },
     "execution_count": 3,
     "metadata": {},
     "output_type": "execute_result"
    }
   ],
   "source": [
    "df.head()"
   ]
  },
  {
   "cell_type": "code",
   "execution_count": 4,
   "metadata": {},
   "outputs": [],
   "source": [
    "factors = df.drop(['Attrition', 'BusinessTravel', 'Department',\n",
    "                   'EducationField', 'EmployeeCount', 'EmployeeNumber',\n",
    "                  'Gender', 'JobRole', 'MaritalStatus', 'Over18',\n",
    "                  'OverTime', 'HourlyRate', 'MonthlyRate',\n",
    "                  'PerformanceRating', 'StandardHours'], axis=1\n",
    "                 )"
   ]
  },
  {
   "cell_type": "code",
   "execution_count": 5,
   "metadata": {},
   "outputs": [],
   "source": [
    "factors['BusinessTravelFreq'] = np.where(df['BusinessTravel']=='Non-Travel', 0, \n",
    "         (np.where(df['BusinessTravel']=='Travel_Frequently', 1, 0.5)))"
   ]
  },
  {
   "cell_type": "code",
   "execution_count": 6,
   "metadata": {},
   "outputs": [],
   "source": [
    "factors['OverTime'] = np.where(df['OverTime']=='Yes', 1, 0)"
   ]
  },
  {
   "cell_type": "code",
   "execution_count": 7,
   "metadata": {},
   "outputs": [],
   "source": [
    "dept = pd.get_dummies(df['Department'], prefix='Dept')"
   ]
  },
  {
   "cell_type": "code",
   "execution_count": 8,
   "metadata": {},
   "outputs": [],
   "source": [
    "ef = pd.get_dummies(df['EducationField'], prefix='Degree')"
   ]
  },
  {
   "cell_type": "code",
   "execution_count": 9,
   "metadata": {},
   "outputs": [],
   "source": [
    "jr = pd.get_dummies(df['JobRole'], prefix='Role')"
   ]
  },
  {
   "cell_type": "code",
   "execution_count": 10,
   "metadata": {},
   "outputs": [],
   "source": [
    "ms = pd.get_dummies(df['MaritalStatus'])"
   ]
  },
  {
   "cell_type": "code",
   "execution_count": 11,
   "metadata": {},
   "outputs": [],
   "source": [
    "factors = pd.concat([factors, dept, ef, jr, ms], axis=1)"
   ]
  },
  {
   "cell_type": "code",
   "execution_count": 12,
   "metadata": {},
   "outputs": [],
   "source": [
    "df['Retained'] = np.where(df['Attrition']=='No', 1, 0)"
   ]
  },
  {
   "cell_type": "markdown",
   "metadata": {},
   "source": [
    "# Logistic Regression without Regularization"
   ]
  },
  {
   "cell_type": "code",
   "execution_count": 13,
   "metadata": {},
   "outputs": [
    {
     "name": "stdout",
     "output_type": "stream",
     "text": [
      "Coefficients\n",
      "[[ 1.64840985e-02  1.83368251e-04 -4.31866452e-02 -1.92322736e-02\n",
      "   3.64957452e-01  3.81916406e-01 -1.04345572e-02  3.52763708e-01\n",
      "   4.57088106e-05 -1.85963478e-01 -1.53440070e-02  1.67274529e-01\n",
      "   1.21058002e-01  7.32014741e-02  1.08216255e-01  2.03974001e-01\n",
      "  -9.59979795e-02  1.33096314e-01 -1.63468784e-01  1.31035636e-01\n",
      "  -1.59534833e+00 -1.80051625e+00 -2.60525150e-01  7.81396656e-03\n",
      "  -5.23299709e-01 -2.83223499e-01  1.15589751e-01 -2.49768483e-01\n",
      "   2.16071907e-01  1.52259957e-01 -7.26940525e-01  3.35741597e-01\n",
      "  -3.32106881e-01 -8.89258810e-01  7.26747379e-02  2.77299431e-01\n",
      "   2.90963336e-01  6.47693352e-02  4.53705958e-02 -6.41464234e-01\n",
      "   2.21288382e-01 -1.30382635e-01 -8.66916638e-01]]\n",
      "[-0.77601089]\n",
      "Accuracy by retention status\n",
      "Retained    0     1\n",
      "row_0              \n",
      "0          97    18\n",
      "1         140  1215\n",
      "Percentage accuracy\n",
      "0.8925170068027211\n"
     ]
    }
   ],
   "source": [
    "# Declare a logistic regression classifier\n",
    "lr = LogisticRegression()\n",
    "y = df['Retained']\n",
    "X = factors\n",
    "\n",
    "# Fit the model\n",
    "fit = lr.fit(X, y)\n",
    "\n",
    "# Display\n",
    "print('Coefficients')\n",
    "print(fit.coef_)\n",
    "print(fit.intercept_)\n",
    "pred_y_sklearn = lr.predict(X)\n",
    "\n",
    "print('Accuracy by retention status')\n",
    "print(pd.crosstab(pred_y_sklearn, y))\n",
    "\n",
    "print('Percentage accuracy')\n",
    "print(lr.score(X, y))"
   ]
  },
  {
   "cell_type": "markdown",
   "metadata": {},
   "source": [
    "# Ridge Logistic Regression"
   ]
  },
  {
   "cell_type": "code",
   "execution_count": 14,
   "metadata": {},
   "outputs": [
    {
     "name": "stdout",
     "output_type": "stream",
     "text": [
      "Coefficients\n",
      "[[ 1.22116197e-02  1.40672787e-04 -4.10989424e-02 -7.33065474e-02\n",
      "   2.99746546e-01  3.21818016e-01  2.55498158e-02  2.60722676e-01\n",
      "   6.02213141e-05 -1.70099227e-01 -3.09359999e-02  1.57759898e-01\n",
      "   2.35085859e-01  7.06965582e-02  1.41316541e-01  1.21819234e-01\n",
      "  -1.12264446e-01  1.56139406e-01 -1.41880241e-01  1.21345076e-01\n",
      "  -1.06976507e+00 -1.68359370e+00 -1.36112087e-01  9.63922053e-02\n",
      "  -3.96633034e-01 -1.55599334e-01  1.14417363e-01 -2.14529544e-01\n",
      "   2.25997896e-01  9.00849786e-02 -4.96724275e-01  2.52463405e-01\n",
      "  -1.71037490e-01 -6.48722865e-01  3.68195977e-02  2.10845431e-01\n",
      "   1.45630488e-01  1.62183883e-01  2.55459512e-02 -4.50081316e-01\n",
      "   2.36248336e-01  2.10392166e-02 -6.93640468e-01]]\n",
      "[-0.43635292]\n",
      "Accuracy by retention status\n",
      "Retained    0     1\n",
      "row_0              \n",
      "0          97    19\n",
      "1         140  1214\n",
      "Percentage accuracy\n",
      "0.8918367346938776\n"
     ]
    }
   ],
   "source": [
    "# Adding L2 Regularization\n",
    "lr2 = LogisticRegression(penalty='l2', C=.41)\n",
    "\n",
    "# Fit the model\n",
    "fit = lr2.fit(X, y)\n",
    "\n",
    "# Display\n",
    "print('Coefficients')\n",
    "print(fit.coef_)\n",
    "print(fit.intercept_)\n",
    "pred_y_sklearn = lr2.predict(X)\n",
    "\n",
    "print('Accuracy by retention status')\n",
    "print(pd.crosstab(pred_y_sklearn, y))\n",
    "\n",
    "print('Percentage accuracy')\n",
    "print(lr2.score(X, y))"
   ]
  },
  {
   "cell_type": "markdown",
   "metadata": {},
   "source": [
    "# Lasso Logistic Regression"
   ]
  },
  {
   "cell_type": "code",
   "execution_count": 15,
   "metadata": {},
   "outputs": [
    {
     "name": "stdout",
     "output_type": "stream",
     "text": [
      "Coefficients\n",
      "[[ 2.03062859e-02  2.10262934e-04 -4.21353100e-02 -1.76060124e-02\n",
      "   3.56765720e-01  4.02137438e-01  0.00000000e+00  3.32180161e-01\n",
      "   5.96347678e-05 -1.76548848e-01 -6.88561694e-03  1.81991980e-01\n",
      "   1.81816425e-01  6.29362147e-02  1.48375398e-01  2.18976537e-01\n",
      "  -8.32983758e-02  1.25256222e-01 -1.58103234e-01  1.25348161e-01\n",
      "  -1.61214092e+00 -1.77437935e+00  0.00000000e+00  0.00000000e+00\n",
      "  -6.85423210e-01 -5.33862134e-02  0.00000000e+00 -2.52479459e-01\n",
      "   7.70272568e-02  0.00000000e+00 -7.27452476e-01  2.69221087e-02\n",
      "  -7.27790007e-01 -8.87498042e-01  0.00000000e+00  0.00000000e+00\n",
      "   0.00000000e+00  0.00000000e+00  0.00000000e+00 -5.45982964e-01\n",
      "   0.00000000e+00 -1.86722781e-01 -9.56600171e-01]]\n",
      "[-1.03951317]\n",
      "Accuracy by retention status\n",
      "Retained    0     1\n",
      "row_0              \n",
      "0          98    16\n",
      "1         139  1217\n",
      "Percentage accuracy\n",
      "0.8945578231292517\n"
     ]
    }
   ],
   "source": [
    "# Switching to L1 Regularization\n",
    "lr1 = LogisticRegression(penalty='l1', C=.5)\n",
    "\n",
    "# Fit the model\n",
    "fit = lr1.fit(X, y)\n",
    "\n",
    "# Display\n",
    "print('Coefficients')\n",
    "print(fit.coef_)\n",
    "print(fit.intercept_)\n",
    "pred_y_sklearn = lr1.predict(X)\n",
    "\n",
    "print('Accuracy by retention status')\n",
    "print(pd.crosstab(pred_y_sklearn, y))\n",
    "\n",
    "print('Percentage accuracy')\n",
    "print(lr1.score(X, y))"
   ]
  },
  {
   "cell_type": "markdown",
   "metadata": {},
   "source": [
    "# Cross Validation"
   ]
  },
  {
   "cell_type": "code",
   "execution_count": 16,
   "metadata": {},
   "outputs": [
    {
     "name": "stdout",
     "output_type": "stream",
     "text": [
      "Vanilla Logistic Regression\n",
      "[0.90540541 0.84459459 0.89189189 0.89115646 0.87755102 0.84353741\n",
      " 0.89795918 0.88356164 0.88356164 0.89726027]\n",
      "Ridge Regression\n",
      "[0.91216216 0.85135135 0.88513514 0.88435374 0.88435374 0.85034014\n",
      " 0.89795918 0.8630137  0.88356164 0.89726027]\n",
      "Lasso Regression\n",
      "[0.91216216 0.85810811 0.89189189 0.89115646 0.8707483  0.85714286\n",
      " 0.89795918 0.89726027 0.90410959 0.89041096]\n"
     ]
    }
   ],
   "source": [
    "# Validating logistic regression without regularization\n",
    "print('Vanilla Logistic Regression')\n",
    "print(cross_val_score(lr, X, y, cv=10))\n",
    "# Validating ridge regression model\n",
    "print('Ridge Regression')\n",
    "print(cross_val_score(lr2, X, y, cv=10))\n",
    "# Validating lasso regression model\n",
    "print('Lasso Regression')\n",
    "print(cross_val_score(lr1, X, y, cv=10))"
   ]
  },
  {
   "cell_type": "markdown",
   "metadata": {},
   "source": [
    "# Conclusions\n",
    "\n",
    "The Lasso logistic regression was the most accurate.  It showed 89.5% accuracy, compared to 89.2% accuracy for the Ridge regression model and 89.3% accuracy for the logistic regression model without any regularization.  The lasso logistic regression model also performs best when it comes to the cross validation.  I ran the models with fewer features, and the difference in accuracy between the models was much greater, with the lasso logistic regression model far outperforming the other two.\n",
    "\n",
    "I used most of the available variables to form features for the model.  Some were redundant and were left out, as hourly rate and monthly rate are almost perfectly correlated.  I created dummy variables to use the categorical data such as department.\n",
    "\n",
    "One strength of logistic regression modeling is that it is easy to implement.  Regression can be limited as a model in situations where data is noisy.  In this case, a regression model was more accurate than the random forest model I previously used on the same data set."
   ]
  }
 ],
 "metadata": {
  "kernelspec": {
   "display_name": "Python 3",
   "language": "python",
   "name": "python3"
  },
  "language_info": {
   "codemirror_mode": {
    "name": "ipython",
    "version": 3
   },
   "file_extension": ".py",
   "mimetype": "text/x-python",
   "name": "python",
   "nbconvert_exporter": "python",
   "pygments_lexer": "ipython3",
   "version": "3.6.5"
  }
 },
 "nbformat": 4,
 "nbformat_minor": 2
}
